{
 "cells": [
  {
   "cell_type": "code",
   "execution_count": 1,
   "metadata": {},
   "outputs": [],
   "source": [
    "import ee, datetime\n",
    "import pandas as pd\n",
    "import numpy as np\n",
    "import datetime as dt"
   ]
  },
  {
   "cell_type": "code",
   "execution_count": 2,
   "metadata": {},
   "outputs": [
    {
     "data": {
      "text/html": [
       "<p>To authorize access needed by Earth Engine, open the following\n",
       "        URL in a web browser and follow the instructions:</p>\n",
       "        <p><a href=https://code.earthengine.google.com/client-auth?scopes=https%3A//www.googleapis.com/auth/earthengine%20https%3A//www.googleapis.com/auth/devstorage.full_control&request_id=hbnwBRrIY7LErW3qMnNL68P1uBVE6qPi0rL8tIdAhEw&tc=_l52rEsPZAsGNlmkPzK6c4dwtGj_zcItY5TooFi1bJo&cc=ZFd1i-e85hRrDVMmDZ1uL3kpUcr4E7KldCSg-T4EkOE>https://code.earthengine.google.com/client-auth?scopes=https%3A//www.googleapis.com/auth/earthengine%20https%3A//www.googleapis.com/auth/devstorage.full_control&request_id=hbnwBRrIY7LErW3qMnNL68P1uBVE6qPi0rL8tIdAhEw&tc=_l52rEsPZAsGNlmkPzK6c4dwtGj_zcItY5TooFi1bJo&cc=ZFd1i-e85hRrDVMmDZ1uL3kpUcr4E7KldCSg-T4EkOE</a></p>\n",
       "        <p>The authorization workflow will generate a code, which you should paste in the box below.</p>\n",
       "        "
      ],
      "text/plain": [
       "<IPython.core.display.HTML object>"
      ]
     },
     "metadata": {},
     "output_type": "display_data"
    },
    {
     "name": "stdout",
     "output_type": "stream",
     "text": [
      "\n",
      "Successfully saved authorization token.\n"
     ]
    }
   ],
   "source": [
    "ee.Authenticate()\n",
    "ee.Initialize()"
   ]
  },
  {
   "cell_type": "code",
   "execution_count": 3,
   "metadata": {},
   "outputs": [],
   "source": [
    "geometry = ee.Geometry.Polygon([[[78.29086830894161,30.088693894180185],\n",
    " [78.29112580100704,30.08579751541355],\n",
    " [78.29001000205685,30.08200981518562],\n",
    " [78.28855088035274,30.078333379191616],\n",
    " [78.28743508140255,30.07621658133498],\n",
    " [78.28717758933712,30.07506532138107],\n",
    " [78.28953793327022,30.074248290060904],\n",
    " [78.29103997031856,30.07629085571088],\n",
    " [78.29189827720333,30.078593333700613],\n",
    " [78.29241326133419,30.079261785015184],\n",
    " [78.29241326133419,30.0805244029521],\n",
    " [78.29361489097286,30.085500446128393],\n",
    " [78.29481652061153,30.08668871791559],\n",
    " [78.29636147300411,30.089585070580323],\n",
    " [78.29086830894161,30.088693894180185]]])"
   ]
  },
  {
   "cell_type": "code",
   "execution_count": 4,
   "metadata": {},
   "outputs": [],
   "source": [
    "def get_turbidity(start_date, end_date):\n",
    "\n",
    "# Selecting the satellite and AOI  \n",
    "# Sentinel 2A\n",
    "# copernicus/s2_sr \n",
    "    sentinel = ee.ImageCollection(\"COPERNICUS/S2_SR\").\\\n",
    "               filter(ee.Filter.lt('CLOUDY_PIXEL_PERCENTAGE',20)).\\\n",
    "               filterDate(start_date, end_date)\n",
    "    AOI = geometry\n",
    "\n",
    "    sentinel_AOI = sentinel.filterBounds(AOI)\n",
    "\n",
    "#calculate NDTI\n",
    "    def calculate_NDTI(image):\n",
    "        ndti = image.normalizedDifference(['B4', 'B3']).rename('NDTI')\n",
    "        return image.addBands(ndti)\n",
    "    ndti = sentinel_AOI.map(calculate_NDTI)\n",
    "\n",
    "# Mean NDTI\n",
    "    def calculate_mean_NDTI(image):\n",
    "        image = ee.Image(image)\n",
    "        mean = image.reduceRegion(reducer = ee.Reducer.mean().setOutputs(['NDTI']),\n",
    "                                geometry = AOI,\n",
    "                                scale = image.projection().nominalScale().getInfo(),\n",
    "                                maxPixels = 100000,\n",
    "                                bestEffort = True);\n",
    "        return mean.get('NDTI').getInfo()\n",
    "    \n",
    "# NDTI mean collection \n",
    "    Images_ndti = ndti.select('NDTI').toList(ndti.size())\n",
    "    ndti_coll = []\n",
    "    for i in range(Images_ndti.length().getInfo()):\n",
    "        image = ee.Image(Images_ndti.get(i-1))\n",
    "        temp_ndti = calculate_mean_NDTI(image)\n",
    "        ndti_coll.append(temp_ndti)\n",
    "\n",
    "# Dates Collection\n",
    "    dates = np.array(ndti.aggregate_array(\"system:time_start\").getInfo())\n",
    "    day = [datetime.datetime.fromtimestamp(i/1000).strftime('%Y-%m-%d') for i in (dates)]\n",
    "\n",
    "# Dataframe for Turtbidity\n",
    "\n",
    "    df = pd.DataFrame(ndti_coll, index = day, columns = ['Turbidity'])\n",
    "    df.index = pd.to_datetime(df.index, format=\"%Y/%m/%d\")\n",
    "    df.sort_index(ascending = True, inplace = True)\n",
    "\n",
    "    return df"
   ]
  },
  {
   "cell_type": "code",
   "execution_count": 5,
   "metadata": {},
   "outputs": [],
   "source": [
    "def get_Salanity(start_date, end_date):\n",
    "\n",
    "# Selecting the satellite and AOI  \n",
    "# Sentinel 2A\n",
    "# copernicus/s2_sr \n",
    "    sentinel = ee.ImageCollection(\"COPERNICUS/S2_SR\").\\\n",
    "               filter(ee.Filter.lt('CLOUDY_PIXEL_PERCENTAGE',20)).\\\n",
    "               filterDate(start_date, end_date)\n",
    "    AOI = geometry\n",
    "\n",
    "    sentinel_AOI = sentinel.filterBounds(AOI)\n",
    "\n",
    "#calculate NDSI\n",
    "    def calculate_NDSI(image):\n",
    "        ndsi = image.normalizedDifference(['B11', 'B12']).rename('NDSI')\n",
    "        return image.addBands(ndsi)\n",
    "    ndsi = sentinel_AOI.map(calculate_NDSI)\n",
    "\n",
    "# Mean NDSI\n",
    "    def calculate_mean_NDSI(image):\n",
    "        image = ee.Image(image)\n",
    "        mean = image.reduceRegion(reducer = ee.Reducer.mean().setOutputs(['NDSI']),\n",
    "                                geometry = AOI,\n",
    "                                scale = image.projection().nominalScale().getInfo(),\n",
    "                                maxPixels = 100000,\n",
    "                                bestEffort = True);\n",
    "        return mean.get('NDSI').getInfo()\n",
    "        \n",
    "# NDSI Mean Collection\n",
    "    Images_ndsi = ndsi.select('NDSI').toList(ndsi.size())\n",
    "    ndsi_coll = []\n",
    "    for i in range(Images_ndsi.length().getInfo()):\n",
    "        image = ee.Image(Images_ndsi.get(i-1))\n",
    "        temp_ndsi = calculate_mean_NDSI(image)\n",
    "        ndsi_coll.append(temp_ndsi)\n",
    "\n",
    "# Dates Collection\n",
    "    dates = np.array(ndsi.aggregate_array(\"system:time_start\").getInfo())\n",
    "    day = [datetime.datetime.fromtimestamp(i/1000).strftime('%Y-%m-%d') for i in (dates)]\n",
    "\n",
    "# Dataframe for Salinity\n",
    "\n",
    "    df = pd.DataFrame(ndsi_coll, index = day, columns = ['Salinity'])\n",
    "    df.index = pd.to_datetime(df.index, format=\"%Y/%m/%d\")\n",
    "    df.sort_index(ascending = True, inplace = True)\n",
    "\n",
    "    return df"
   ]
  },
  {
   "cell_type": "code",
   "execution_count": 6,
   "metadata": {},
   "outputs": [],
   "source": [
    "def get_DO(start_date, end_date):\n",
    "\n",
    "# Selecting the satellite and AOI  \n",
    "# Sentinel 2A\n",
    "# copernicus/s2_sr \n",
    "    sentinel = ee.ImageCollection(\"COPERNICUS/S2_SR\").\\\n",
    "               filter(ee.Filter.lt('CLOUDY_PIXEL_PERCENTAGE',20)).\\\n",
    "               filterDate(start_date, end_date)\n",
    "    AOI = geometry\n",
    "\n",
    "    sentinel_AOI = sentinel.filterBounds(AOI)\n",
    "\n",
    "# calculate Dissolved Oxygen\n",
    "    def calculate_DO(image):\n",
    "        do = image.normalizedDifference(['B4', 'B5']).rename('DO')\n",
    "        return image.addBands(do)\n",
    "    do = sentinel_AOI.map(calculate_DO)\n",
    "\n",
    "# Mean DO\n",
    "\n",
    "    def calcualte_mean_DO(image):\n",
    "        image = ee.Image(image)\n",
    "        mean = image.reduceRegion(reducer = ee.Reducer.mean().setOutputs(['DO']),\n",
    "                            geometry = AOI,\n",
    "                            scale = image.projection().nominalScale().getInfo(),\n",
    "                            maxPixels = 100000,\n",
    "                            bestEffort = True);\n",
    "        return mean.get('DO').getInfo()\n",
    "        \n",
    "# DO Mean Collection\n",
    "\n",
    "    Images_do = do.select('DO').toList(do.size())\n",
    "    do_coll = []\n",
    "    for i in range(Images_do.length().getInfo()):\n",
    "        image = ee.Image(Images_do.get(i-1))\n",
    "        temp_do = calcualte_mean_DO(image)\n",
    "        do_coll.append(temp_do)\n",
    "\n",
    "# Dates Collection\n",
    "    dates = np.array(do.aggregate_array(\"system:time_start\").getInfo())\n",
    "    day = [datetime.datetime.fromtimestamp(i/1000).strftime('%Y-%m-%d') for i in (dates)]\n",
    "\n",
    "# Dataframe for DO\n",
    "\n",
    "    df = pd.DataFrame(do_coll, index = day, columns = ['Dissolved Oxygen'])\n",
    "    df.index = pd.to_datetime(df.index, format=\"%Y/%m/%d\")\n",
    "    df.sort_index(ascending = True, inplace = True)\n",
    "\n",
    "    return df"
   ]
  },
  {
   "cell_type": "code",
   "execution_count": 7,
   "metadata": {},
   "outputs": [],
   "source": [
    "def get_pH(start_date, end_date):\n",
    "\n",
    "# Selecting the satellite and AOI  \n",
    "# Sentinel 2A\n",
    "# copernicus/s2_sr \n",
    "    sentinel = ee.ImageCollection(\"COPERNICUS/S2_SR\").\\\n",
    "               filter(ee.Filter.lt('CLOUDY_PIXEL_PERCENTAGE',20)).\\\n",
    "               filterDate(start_date, end_date)\n",
    "    AOI = geometry\n",
    "\n",
    "    sentinel_AOI = sentinel.filterBounds(AOI)\n",
    "\n",
    "# calculate pH\n",
    "\n",
    "    def calculate_pH(image):\n",
    "        ph = ee.Image(8.339).subtract(ee.Image(0.827).multiply(image.select('B1').divide(image.select('B8')))).rename('PH')\n",
    "        return image.addBands(ph)\n",
    "    pH = sentinel_AOI.map(calculate_pH)\n",
    "\n",
    "# Mean pH\n",
    "\n",
    "    def calculate_mean_pH(image):\n",
    "        image = ee.Image(image)\n",
    "        mean = image.reduceRegion(reducer = ee.Reducer.mean().setOutputs(['PH']),\n",
    "                                geometry = AOI,\n",
    "                                scale = image.projection().nominalScale().getInfo(),\n",
    "                                maxPixels = 100000,\n",
    "                                bestEffort = True);\n",
    "        return mean.get('PH').getInfo()\n",
    "        \n",
    "# pH Mean Collection\n",
    "\n",
    "    Images_ph = pH.select('PH').toList(pH.size())\n",
    "    ph_coll= []\n",
    "    for i in range(Images_ph.length().getInfo()):\n",
    "        image = ee.Image(Images_ph.get(i-1))\n",
    "        temp_ph = calculate_mean_pH(image)\n",
    "        ph_coll.append(temp_ph)\n",
    "\n",
    "# Dates Collection\n",
    "\n",
    "    dates = np.array(pH.aggregate_array(\"system:time_start\").getInfo())\n",
    "    day = [datetime.datetime.fromtimestamp(i/1000).strftime('%Y-%m-%d') for i in (dates)]\n",
    "\n",
    "# Dataframe for pH\n",
    "\n",
    "    df = pd.DataFrame(ph_coll, index = day, columns = ['pH'])\n",
    "    df.index = pd.to_datetime(df.index, format=\"%Y/%m/%d\")\n",
    "    df.sort_index(ascending = True, inplace = True)\n",
    "\n",
    "    return df"
   ]
  },
  {
   "cell_type": "code",
   "execution_count": 8,
   "metadata": {},
   "outputs": [],
   "source": [
    "def get_DOM(start_date, end_date):\n",
    "\n",
    "# Selecting the satellite and AOI  \n",
    "# Sentinel 3 OLCI\n",
    "# Copernicus Sentinel-3 OLCI \n",
    "    sentinel3 = ee.ImageCollection(\"COPERNICUS/S3/OLCI\").\\\n",
    "              filterDate(start_date, end_date)\n",
    "    AOI = geometry\n",
    "\n",
    "    sentinel3_AOI = sentinel3.filterBounds(AOI)\n",
    "\n",
    "# calculate Dissolved Organic Matter (DOM) from Sentinel-3 OLCI\n",
    "\n",
    "    def calculate_DM(image):\n",
    "        rgb = image.select(['Oa08_radiance', 'Oa06_radiance', 'Oa04_radiance'])\\\n",
    "              .multiply(ee.Image([0.00876539, 0.0123538, 0.0115198]))\n",
    "        dm = rgb.select('Oa08_radiance').divide(rgb.select('Oa04_radiance')).rename('dom')\n",
    "        return image.addBands(dm)\n",
    "    dm = sentinel3_AOI.map(calculate_DM)\n",
    "\n",
    "# Mean DOM\n",
    "\n",
    "    def calcualte_mean_DM(image):\n",
    "        image = ee.Image(image)\n",
    "        mean = image.reduceRegion(reducer = ee.Reducer.mean().setOutputs(['dom']),\n",
    "                            geometry = AOI,\n",
    "                            scale = image.projection().nominalScale().getInfo(),\n",
    "                            maxPixels = 100000,\n",
    "                            bestEffort = True);\n",
    "        return mean.get('dom').getInfo()\n",
    "    \n",
    "# DOM Mean Collection\n",
    "\n",
    "    Images_dm = dm.select('dom').toList(dm.size())\n",
    "    dm_coll= []\n",
    "    for i in range(Images_dm.length().getInfo()):\n",
    "        image = ee.Image(Images_dm.get(i-1))\n",
    "        temp_dm = calcualte_mean_DM(image)\n",
    "        dm_coll.append(temp_dm)\n",
    "\n",
    "# Dates Collection\n",
    "\n",
    "    dates = np.array(dm.aggregate_array(\"system:time_start\").getInfo())\n",
    "    day = [datetime.datetime.fromtimestamp(i/1000).strftime('%Y-%m-%d') for i in (dates)]\n",
    "\n",
    "# Dataframe for DOM\n",
    "\n",
    "    df = pd.DataFrame(dm_coll, index = day, columns = ['dom'])\n",
    "    df.index = pd.to_datetime(df.index, format=\"%Y/%m/%d\")\n",
    "    df.sort_index(ascending = True, inplace = True)\n",
    "\n",
    "    return df"
   ]
  },
  {
   "cell_type": "code",
   "execution_count": 9,
   "metadata": {},
   "outputs": [],
   "source": [
    "def get_sm(start_date, end_date):\n",
    "\n",
    "# Selecting the satellite and AOI  \n",
    "# Sentinel 3 OLCI\n",
    "# Copernicus Sentinel-3 OLCI \n",
    "    sentinel3 = ee.ImageCollection(\"COPERNICUS/S3/OLCI\").\\\n",
    "              filterDate(start_date, end_date)\n",
    "    AOI = geometry\n",
    "\n",
    "    sentinel3_AOI = sentinel3.filterBounds(AOI)\n",
    "\n",
    "# calculate suspended matter\n",
    "\n",
    "    def calculate_SM(image):\n",
    "        rgb = image.select(['Oa08_radiance', 'Oa06_radiance', 'Oa04_radiance'])\\\n",
    "              .multiply(ee.Image([0.00876539, 0.0123538, 0.0115198]))\n",
    "        suspended_matter = rgb.select('Oa08_radiance').divide(rgb.select('Oa06_radiance')).rename('suspended_matter')\n",
    "        return image.addBands(suspended_matter)\n",
    "    sm = sentinel3_AOI.map(calculate_SM)\n",
    "\n",
    "# Mean of Suspended Matter\n",
    "\n",
    "    def meanSM(image):\n",
    "        image = ee.Image(image)\n",
    "        mean = image.reduceRegion(reducer = ee.Reducer.mean().setOutputs(['suspended_matter']),\n",
    "                           geometry = AOI,\n",
    "                           scale = image.projection().nominalScale().getInfo(),\n",
    "                           maxPixels = 100000,\n",
    "                           bestEffort = True);\n",
    "        return mean.get('suspended_matter').getInfo()\n",
    "            \n",
    "# Suspended-Matter Mean Collection\n",
    "\n",
    "    Images_sm = sm.select('suspended_matter').toList(sm.size())\n",
    "    sm_coll= []\n",
    "    for i in range(Images_sm.length().getInfo()):\n",
    "        image = ee.Image(Images_sm.get(i-1))\n",
    "        temp_sm = meanSM(image)\n",
    "        sm_coll.append(temp_sm)\n",
    "\n",
    "# Dates Collection\n",
    "\n",
    "    dates = np.array(sm.aggregate_array(\"system:time_start\").getInfo())\n",
    "    day = [datetime.datetime.fromtimestamp(i/1000).strftime('%Y-%m-%d') for i in (dates)]\n",
    "\n",
    "# Dataframe for suspended matter\n",
    "\n",
    "    df = pd.DataFrame(sm_coll, index = day, columns = ['Suspended Matter'])\n",
    "    df.index = pd.to_datetime(df.index, format=\"%Y/%m/%d\")\n",
    "    df.sort_index(ascending = True, inplace = True)\n",
    "\n",
    "    return df"
   ]
  },
  {
   "cell_type": "code",
   "execution_count": 10,
   "metadata": {},
   "outputs": [
    {
     "data": {
      "text/plain": [
       "\"df1 = get_chlorophyll('2019-01-01', '2019-01-10')\\n   df1.to_csv('chlorophyll.csv')\""
      ]
     },
     "execution_count": 10,
     "metadata": {},
     "output_type": "execute_result"
    }
   ],
   "source": [
    "'''df1 = get_chlorophyll('2019-01-01', '2019-01-10')\n",
    "   df1.to_csv('chlorophyll.csv')'''\n",
    "\n",
    "#In this format, the data is stored in CSV.\n"
   ]
  },
  {
   "cell_type": "code",
   "execution_count": 11,
   "metadata": {},
   "outputs": [],
   "source": [
    "\n",
    "dissolved_oxygen = get_DO('2020-01-01', '2021-12-31')"
   ]
  },
  {
   "cell_type": "code",
   "execution_count": null,
   "metadata": {},
   "outputs": [],
   "source": [
    "\n",
    "\n",
    "dissolved_oxygen.to_csv('dissolved_oxygen_rishikesh.csv', index=True)\n",
    "\n"
   ]
  },
  {
   "cell_type": "code",
   "execution_count": null,
   "metadata": {},
   "outputs": [],
   "source": [
    "\n",
    "pH = get_pH('2020-01-01', '2021-12-31')\n"
   ]
  },
  {
   "cell_type": "code",
   "execution_count": null,
   "metadata": {},
   "outputs": [],
   "source": [
    "\n",
    "pH.to_csv('ph_rishikesh.csv', index=True)\n"
   ]
  },
  {
   "cell_type": "code",
   "execution_count": null,
   "metadata": {},
   "outputs": [],
   "source": [
    "suspended_matter = get_sm('2020-01-01', '2021-12-31')"
   ]
  },
  {
   "cell_type": "code",
   "execution_count": null,
   "metadata": {},
   "outputs": [],
   "source": [
    "suspended_matter.to_csv('suspended_matter_rishikesh.csv', index=True)"
   ]
  },
  {
   "cell_type": "code",
   "execution_count": null,
   "metadata": {},
   "outputs": [],
   "source": [
    "DOM = get_DOM('2020-01-01', '2021-12-31')"
   ]
  },
  {
   "cell_type": "code",
   "execution_count": null,
   "metadata": {},
   "outputs": [],
   "source": [
    "DOM.to_csv('dom_rishikesh.csv', index=True)"
   ]
  },
  {
   "cell_type": "code",
   "execution_count": null,
   "metadata": {},
   "outputs": [],
   "source": []
  },
  {
   "cell_type": "code",
   "execution_count": null,
   "metadata": {},
   "outputs": [],
   "source": []
  },
  {
   "cell_type": "code",
   "execution_count": null,
   "metadata": {},
   "outputs": [],
   "source": []
  },
  {
   "cell_type": "code",
   "execution_count": null,
   "metadata": {},
   "outputs": [],
   "source": []
  },
  {
   "cell_type": "code",
   "execution_count": null,
   "metadata": {},
   "outputs": [],
   "source": []
  }
 ],
 "metadata": {
  "kernelspec": {
   "display_name": "Python 3",
   "language": "python",
   "name": "python3"
  },
  "language_info": {
   "codemirror_mode": {
    "name": "ipython",
    "version": 3
   },
   "file_extension": ".py",
   "mimetype": "text/x-python",
   "name": "python",
   "nbconvert_exporter": "python",
   "pygments_lexer": "ipython3",
   "version": "3.11.4"
  },
  "orig_nbformat": 4
 },
 "nbformat": 4,
 "nbformat_minor": 2
}
